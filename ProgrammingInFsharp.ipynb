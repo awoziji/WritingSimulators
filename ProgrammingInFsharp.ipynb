{
 "cells": [
  {
   "cell_type": "markdown",
   "metadata": {},
   "source": [
    "# Introduction to programming in F#\n",
    "\n",
    "The purpose of this notebook is to acquaint you with the basics of programming with F#. If you are comfortable and or familiar with the concepts here you can move onto later sections immediately- this section is aimed at getting individuals with little or no experience programming to grips with basic features.\n",
    "\n",
    "The tutorial is structured around working with numbers firstly. Later sections will introduce more complex concepts."
   ]
  },
  {
   "cell_type": "markdown",
   "metadata": {},
   "source": [
    "## First steps\n",
    "\n",
    "F# is a programming language that encourages you to write in a particular style. This is known as the *functional* style, and it has a few features that can make writing code easier. As this is intended as a basic introduction we won't discuss this in depth but to make a few points that are important to bear in mind.\n",
    "\n",
    "### Basic language\n",
    "\n",
    "*Variables* are named containers for information. These can be numbers, like integers, or text, or more complex objects that you yourself define. \n",
    "\n",
    "What kind of information a variable contains is known as its *type*. So a variables type can be an integer, or a floating point number etc.\n",
    "\n",
    "There also exist *collections* of variables- for example, a list of integers. A collection is a kind of type, so you can state that this variable is a list of text.\n",
    "\n",
    "### Using jupyter\n",
    "\n",
    "This notebook is split into blocks of *text* like this, describing what you should do or think about, or *code* which can be edited (by clicking and editing the text) and run using the *run* button above. This code is the F# language; the notebook structure just makes it easier to work with and annotate. There are other ways to use F# but we have chosen the notebook as it makes it easier to combine extensive text and working code. "
   ]
  },
  {
   "cell_type": "markdown",
   "metadata": {},
   "source": [
    "## Using variables and types\n",
    "\n",
    "The first task in coding is to create variables. This is done by writing ''let'', the variable name, and then specifying its value after an equals sign. For example;"
   ]
  },
  {
   "cell_type": "code",
   "execution_count": 3,
   "metadata": {},
   "outputs": [],
   "source": [
    "let firstVariable = 0"
   ]
  },
  {
   "cell_type": "markdown",
   "metadata": {},
   "source": [
    "Creates a variable in memory called firstVariable, and it is equal to zero. The variable's type is an integer, as can be seen from the lack of a decimal place in the number. An alternative type is a *float* (short for a floating point number) and represents a fractional value (e.g. 0.5)."
   ]
  },
  {
   "cell_type": "markdown",
   "metadata": {},
   "source": [
    "### Printing to screen\n",
    "\n",
    "One thing you'll notice is that running the code above appears to do nothing. This is normal, as what is happening is the variable is stored in memory ready to be used in future. However it is useful to see something on the screen when we're working. To print text to the screen a function called *printf* takes a short piece of text and some fo your variables and prints it to the screen."
   ]
  },
  {
   "cell_type": "code",
   "execution_count": 4,
   "metadata": {},
   "outputs": [
    {
     "data": {
      "text/plain": [
       "My first variable is 0\n"
      ]
     },
     "metadata": {},
     "output_type": "display_data"
    }
   ],
   "source": [
    "printf \"My first variable is %d\\n\" firstVariable"
   ]
  },
  {
   "cell_type": "markdown",
   "metadata": {},
   "source": [
    "The text has some special characters, indicated by a percentage sign (%) that say where the variables should be placed. The letter after the % indicates the type of the variable that is expected- %d means an integer, %f is a float. There are other types that can be used and we will introduce them as we use them.\n",
    "\n",
    "If there are multiple variables being printed then the order of the variables after the text indicates the order in the text"
   ]
  },
  {
   "cell_type": "code",
   "execution_count": 5,
   "metadata": {},
   "outputs": [
    {
     "data": {
      "text/plain": [
       "First = 0, second = 1\n"
      ]
     },
     "metadata": {},
     "output_type": "display_data"
    }
   ],
   "source": [
    "let secondVariable = 1\n",
    "printf \"First = %d, second = %d\\n\" firstVariable secondVariable"
   ]
  },
  {
   "cell_type": "markdown",
   "metadata": {},
   "source": [
    "Finally, at the end of the line we have a special character \"\\n\". This indicates that a new line should start. We can use this in other places to print multi-line text"
   ]
  },
  {
   "cell_type": "code",
   "execution_count": 6,
   "metadata": {},
   "outputs": [
    {
     "data": {
      "text/plain": [
       "First = 0\n",
       "Second = 1\n"
      ]
     },
     "metadata": {},
     "output_type": "display_data"
    }
   ],
   "source": [
    "printf \"First = %d\\nSecond = %d\\n\" firstVariable secondVariable"
   ]
  },
  {
   "cell_type": "markdown",
   "metadata": {},
   "source": [
    "### Variables continued\n",
    "\n",
    "Unless you specify otherwise, variables you create are immutable. That means that if you say ''x=9'' in your code, it will remain 9 whilst it is being run. If you try to reassign the value, the code will not work. This can prevent certain types of error, as shown when you run the code below"
   ]
  },
  {
   "cell_type": "code",
   "execution_count": 7,
   "metadata": {},
   "outputs": [
    {
     "name": "stderr",
     "output_type": "stream",
     "text": [
      "Duplicate definition of value 'duplicatedVariable'"
     ]
    }
   ],
   "source": [
    "let duplicatedVariable = 9\n",
    "\n",
    "let duplicatedVariable = 10"
   ]
  },
  {
   "cell_type": "markdown",
   "metadata": {},
   "source": [
    "You can also define variables in terms of a function of other variables, with some limits. You can only use variables that are the same type as one another- for example, you could add or multiple two integers, but you could not add an integer and a float. The first box of code works, whilst the second gives an error. In the third, we use the functions *int* and *float* to convert the types and make the code work. \n",
    "\n",
    "The last variable created used multiple lines to define the variable. If this is done the additional lines must be indented, and all indented by the same number of spaces."
   ]
  },
  {
   "cell_type": "code",
   "execution_count": 8,
   "metadata": {},
   "outputs": [],
   "source": [
    "let thirdVariable = firstVariable + 2\n",
    "let fourthVariable = 0.5\n",
    "let fifthVariable = fourthVariable + 0.2"
   ]
  },
  {
   "cell_type": "code",
   "execution_count": 9,
   "metadata": {},
   "outputs": [
    {
     "name": "stderr",
     "output_type": "stream",
     "text": [
      "The type 'int' does not match the type 'float'\n",
      "The type 'int' does not match the type 'float'"
     ]
    }
   ],
   "source": [
    "let badVariable = fourthVariable + secondVariable"
   ]
  },
  {
   "cell_type": "code",
   "execution_count": 10,
   "metadata": {},
   "outputs": [
    {
     "data": {
      "text/plain": [
       "Six = 1.500000\n",
       "Seven = 1\n"
      ]
     },
     "metadata": {},
     "output_type": "display_data"
    }
   ],
   "source": [
    "let sixthVariable = fourthVariable + (float secondVariable)\n",
    "let seventhVariable = \n",
    "    (int fourthVariable) + secondVariable\n",
    "    \n",
    "printf \"Six = %f\\nSeven = %d\\n\" sixthVariable seventhVariable"
   ]
  },
  {
   "cell_type": "markdown",
   "metadata": {},
   "source": [
    "## Basic functions\n",
    "\n",
    "So far we've just discussed how to create variables either from numbers or other variables. However, if we want to do a single task repeatedly we should define a function that takes some input and performs a task. \n",
    "\n",
    "Creating a function is very similar to creating a variable. After the let statement and the function name, the names of *local* variables are placed before the equals sign. These variables are called local as they only exist inside this function so they can be names used elsewhere, and the names can be reused. \n",
    "\n",
    "> Note that below we use a few features we've not tried before. We include comments in the code by using ''//''- this means that the text after the symbols is ignored. We also pass a function with inputs directly to printf by bracketing the function"
   ]
  },
  {
   "cell_type": "code",
   "execution_count": 15,
   "metadata": {},
   "outputs": [
    {
     "data": {
      "text/plain": [
       "First variable plus one = 1\n"
      ]
     },
     "metadata": {},
     "output_type": "display_data"
    }
   ],
   "source": [
    "let addOne x = x + 1\n",
    "\n",
    "//Equation for a slope y = m x + c\n",
    "//Function returns yt\n",
    "let straightLine m x c =\n",
    "    m * x + c\n",
    "    \n",
    "let distance (a:float) b = \n",
    "    sqrt (a*a+b*b)\n",
    "\n",
    "printf \"First variable plus one = %d\\n\" (addOne firstVariable)"
   ]
  },
  {
   "cell_type": "markdown",
   "metadata": {},
   "source": [
    "# Further reading \n",
    "\n",
    "http://usingprogramming.com/post/2017/08/21/getting-started-with-programming-and-getting-absolutely-nowhere\n",
    "\n",
    "https://github.com/ChrisMarinos/FSharpKoans\n",
    "\n",
    "http://www.fsharpworkshop.com/\n",
    "\n",
    "https://www.youtube.com/playlist?list=PLEoMzSkcN8oNiJ67Hd7oRGgD1d4YBxYGC"
   ]
  }
 ],
 "metadata": {
  "kernelspec": {
   "display_name": "F#",
   "language": "fsharp",
   "name": "ifsharp"
  },
  "language": "fsharp",
  "language_info": {
   "codemirror_mode": "",
   "file_extension": ".fs",
   "mimetype": "text/x-fsharp",
   "name": "fsharp",
   "nbconvert_exporter": "",
   "pygments_lexer": "",
   "version": "4.3.1.0"
  }
 },
 "nbformat": 4,
 "nbformat_minor": 2
}
