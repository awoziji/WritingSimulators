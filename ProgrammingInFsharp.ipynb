{
 "cells": [
  {
   "cell_type": "markdown",
   "metadata": {},
   "source": [
    "# Introduction to programming in F#\n",
    "\n",
    "The purpose of this notebook is to acquaint you with the basics of programming with F#. If you are comfortable and or familiar with the concepts here you can move onto later sections immediately- this section is aimed at getting individuals with little or no experience programming to grips with basic features.\n",
    "\n",
    "The tutorial is structured around working with numbers firstly. Later sections will introduce more complex concepts."
   ]
  },
  {
   "cell_type": "markdown",
   "metadata": {},
   "source": [
    "## First steps\n",
    "\n",
    "F# is a programming language that encourages you to write in a particular style. This is known as the *functional* style, and it has a few features that can make writing code easier, and makes the code look more similar to mathematical equations. As this is intended as a basic introduction we won't discuss all this means in depth but where its relevant we will make a note.\n",
    "\n",
    "### Basic language\n",
    "\n",
    "*Variables* are named containers for information. These can be numbers, like integers, or text, or more complex objects that you yourself define. \n",
    "\n",
    "What kind of information a variable contains is known as its *type*. So a variables type can be an integer, or a floating point number etc.\n",
    "\n",
    "There also exist *collections* of variables- for example, a list of integers. A collection is a kind of type, so you can state that this variable is a list of text.\n",
    "\n",
    "### Using jupyter\n",
    "\n",
    "This notebook is split into blocks of *text* like this, describing what you should do or think about, or *code* which can be edited (by clicking and editing the text) and run using the *run* button above. This code is the F# language; the notebook structure just makes it easier to work with and annotate. There are other ways to use F# but we have chosen the notebook as it makes it easier to combine extensive text and working code. "
   ]
  },
  {
   "cell_type": "markdown",
   "metadata": {},
   "source": [
    "# Variables and types\n",
    "\n",
    "The first task in coding is to create variables. This is done by writing ''let'', the variable name, and then specifying its value after an equals sign. For example;"
   ]
  },
  {
   "cell_type": "code",
   "execution_count": 2,
   "metadata": {
    "collapsed": true
   },
   "outputs": [],
   "source": [
    "let firstVariable = 0"
   ]
  },
  {
   "cell_type": "markdown",
   "metadata": {},
   "source": [
    "Creates a variable in memory called firstVariable, and it is equal to zero. The variable's type is an integer, as can be seen from the lack of a decimal place in the number. An alternative type is a *float* (short for a floating point number) and represents a fractional value (e.g. 0.5).\n",
    "\n",
    "*let* here is an example of a *keyword*- that is to say, a word that has a special, built-in meaning in F#. This means that you cannot reuse it elsewhere without creating an error."
   ]
  },
  {
   "cell_type": "markdown",
   "metadata": {},
   "source": [
    "### Printing to screen\n",
    "\n",
    "One thing you'll notice is that running the code above appears to do nothing. This is normal, as what is happening is the variable is stored in memory ready to be used in future. However it is useful to see something on the screen when we're working. \n",
    "\n",
    "One simple way to do this is to include lines with just the variable of interest at the end of the cell, or run a function that returns something."
   ]
  },
  {
   "cell_type": "code",
   "execution_count": 3,
   "metadata": {},
   "outputs": [
    {
     "data": {
      "text/plain": [
       "0"
      ]
     },
     "execution_count": 3,
     "metadata": {},
     "output_type": "execute_result"
    }
   ],
   "source": [
    "firstVariable"
   ]
  },
  {
   "cell_type": "markdown",
   "metadata": {},
   "source": [
    "Another way to print text to the screen a function called *printf* takes a short piece of text and some fo your variables and prints it to the screen."
   ]
  },
  {
   "cell_type": "code",
   "execution_count": 4,
   "metadata": {},
   "outputs": [
    {
     "data": {
      "text/plain": [
       "My first variable is 0\n"
      ]
     },
     "metadata": {},
     "output_type": "display_data"
    }
   ],
   "source": [
    "printf \"My first variable is %d\\n\" firstVariable"
   ]
  },
  {
   "cell_type": "markdown",
   "metadata": {},
   "source": [
    "The text has some special characters, indicated by a percentage sign (%) that say where the variables should be placed. The letter after the % indicates the type of the variable that is expected- %d means an integer, %f is a float. There are other types that can be used and we will introduce them as we use them.\n",
    "\n",
    "If there are multiple variables being printed then the order of the variables after the text indicates the order in the text"
   ]
  },
  {
   "cell_type": "code",
   "execution_count": 5,
   "metadata": {},
   "outputs": [
    {
     "data": {
      "text/plain": [
       "First = 0, second = 1\n"
      ]
     },
     "metadata": {},
     "output_type": "display_data"
    }
   ],
   "source": [
    "let secondVariable = 1\n",
    "printf \"First = %d, second = %d\\n\" firstVariable secondVariable"
   ]
  },
  {
   "cell_type": "markdown",
   "metadata": {},
   "source": [
    "Finally, at the end of the line we have a special character \"\\n\". This indicates that a new line should start. We can use this in other places to print multi-line text"
   ]
  },
  {
   "cell_type": "code",
   "execution_count": 6,
   "metadata": {},
   "outputs": [
    {
     "data": {
      "text/plain": [
       "First = 0\n",
       "Second = 1\n"
      ]
     },
     "metadata": {},
     "output_type": "display_data"
    }
   ],
   "source": [
    "printf \"First = %d\\nSecond = %d\\n\" firstVariable secondVariable"
   ]
  },
  {
   "cell_type": "markdown",
   "metadata": {},
   "source": [
    "### Variables continued\n",
    "\n",
    "Unless you specify otherwise, variables you create are immutable. That means that if you say ''x=9'' in your code, it will remain 9 whilst it is being run. If you try to reassign the value, the code will not work. This can prevent certain types of error, as shown when you run the code below"
   ]
  },
  {
   "cell_type": "code",
   "execution_count": 7,
   "metadata": {},
   "outputs": [
    {
     "name": "stderr",
     "output_type": "stream",
     "text": [
      "Duplicate definition of value 'duplicatedVariable'"
     ]
    }
   ],
   "source": [
    "let duplicatedVariable = 9\n",
    "\n",
    "let duplicatedVariable = 10"
   ]
  },
  {
   "cell_type": "markdown",
   "metadata": {},
   "source": [
    "You can also define variables in terms of a function of other variables, with some limits. You can only use variables that are the same type as one another- for example, you could add or multiple two integers, but you could not add an integer and a float. The first box of code works, whilst the second gives an error. In the third, we use the functions *int* and *float* to convert the types and make the code work. \n",
    "\n",
    "The last variable created used multiple lines to define the variable. If this is done the additional lines must be indented, and all indented by the same number of spaces."
   ]
  },
  {
   "cell_type": "code",
   "execution_count": 8,
   "metadata": {
    "collapsed": true
   },
   "outputs": [],
   "source": [
    "let thirdVariable = firstVariable + 2\n",
    "let fourthVariable = 0.5\n",
    "let fifthVariable = fourthVariable + 0.2"
   ]
  },
  {
   "cell_type": "code",
   "execution_count": 9,
   "metadata": {},
   "outputs": [
    {
     "name": "stderr",
     "output_type": "stream",
     "text": [
      "The type 'int' does not match the type 'float'\n",
      "The type 'int' does not match the type 'float'"
     ]
    }
   ],
   "source": [
    "let badVariable = fourthVariable + secondVariable"
   ]
  },
  {
   "cell_type": "code",
   "execution_count": 10,
   "metadata": {},
   "outputs": [
    {
     "data": {
      "text/plain": [
       "Six = 1.500000\n",
       "Seven = 1\n"
      ]
     },
     "metadata": {},
     "output_type": "display_data"
    }
   ],
   "source": [
    "let sixthVariable = fourthVariable + (float secondVariable)\n",
    "let seventhVariable = \n",
    "    (int fourthVariable) + secondVariable\n",
    "    \n",
    "printf \"Six = %f\\nSeven = %d\\n\" sixthVariable seventhVariable"
   ]
  },
  {
   "cell_type": "markdown",
   "metadata": {},
   "source": [
    "## Basic functions\n",
    "\n",
    "So far we've just discussed how to create variables either from numbers or other variables. However, if we want to do a single task repeatedly we should define a function that takes some input and performs a task. \n",
    "\n",
    "Creating a function is very similar to creating a variable. After the let statement and the function name, the names of *local* variables are placed before the equals sign. These variables are called local as they only exist inside this function so they can be names used elsewhere, and the names can be reused. \n",
    "\n",
    "Crucially, the last statement of the function is the value that the function returns.\n",
    "\n",
    "> Note that below we use a few features we've not tried before. We include comments in the code by using ''//''- this means that the text after the symbols is ignored. We also pass a function with inputs directly to printf by bracketing the function"
   ]
  },
  {
   "cell_type": "code",
   "execution_count": 11,
   "metadata": {
    "collapsed": true
   },
   "outputs": [],
   "source": [
    "//Function that returns a number one greater than the input\n",
    "let addOne x = x + 1"
   ]
  },
  {
   "cell_type": "code",
   "execution_count": 12,
   "metadata": {},
   "outputs": [
    {
     "data": {
      "text/plain": [
       "2"
      ]
     },
     "execution_count": 12,
     "metadata": {},
     "output_type": "execute_result"
    }
   ],
   "source": [
    "addOne 1"
   ]
  },
  {
   "cell_type": "markdown",
   "metadata": {},
   "source": [
    "Note that the functions still respect types. In this case, addOne infers that x must be an integer, because x is added to integer one later. If you attempt to run this function with a float you get a complaint:"
   ]
  },
  {
   "cell_type": "code",
   "execution_count": 13,
   "metadata": {},
   "outputs": [
    {
     "name": "stderr",
     "output_type": "stream",
     "text": [
      "This expression was expected to have type\n",
      "    'int'    \n",
      "but here has type\n",
      "    'float'    "
     ]
    }
   ],
   "source": [
    "addOne 1."
   ]
  },
  {
   "cell_type": "markdown",
   "metadata": {},
   "source": [
    "More complicated functions can take multiple parameters as shown below. "
   ]
  },
  {
   "cell_type": "code",
   "execution_count": 14,
   "metadata": {
    "collapsed": true
   },
   "outputs": [],
   "source": [
    "//Equation for a slope y = m x + c\n",
    "//Function returns yt\n",
    "let straightLine m x c =\n",
    "    m * x + c"
   ]
  },
  {
   "cell_type": "markdown",
   "metadata": {},
   "source": [
    "Two new features are introduced below. A local variable is used. Here we declare a variable  Additionally, vectorLength introduces *type annotation*. In the example above *addOne*, type inference was able to work out what types can be passed to the function on the basis of what happened inside the function. \n",
    "\n",
    "If a function (for example, *vectorLength* below when run on a Mac or Linux machine) can't do this on its own, so we can make a note of what types to expect for each variable. "
   ]
  },
  {
   "cell_type": "code",
   "execution_count": 15,
   "metadata": {},
   "outputs": [
    {
     "data": {
      "text/plain": [
       "2.236067977"
      ]
     },
     "execution_count": 15,
     "metadata": {},
     "output_type": "execute_result"
    }
   ],
   "source": [
    "let vectorLength (a:float) b = \n",
    "    let squareDistance = a*a+b*b\n",
    "    sqrt squareDistance\n",
    "\n",
    "vectorLength 1. 2."
   ]
  },
  {
   "cell_type": "markdown",
   "metadata": {},
   "source": [
    "### Type conversions\n",
    "\n",
    "Finally, what if you want to take an integer, but want to mix it with a float (for example, in a multiplication)? You cannot mix types, but you can use functions that convert one type to another. For example, the function below uses *float* to convert an input number to a float and add it to another float. The function *int* has a similar role, converting a number to a string, rounding the input float down."
   ]
  },
  {
   "cell_type": "code",
   "execution_count": 16,
   "metadata": {},
   "outputs": [
    {
     "data": {
      "text/plain": [
       "5"
      ]
     },
     "execution_count": 16,
     "metadata": {},
     "output_type": "execute_result"
    }
   ],
   "source": [
    "int(5.5)"
   ]
  },
  {
   "cell_type": "code",
   "execution_count": 17,
   "metadata": {},
   "outputs": [
    {
     "data": {
      "text/plain": [
       "5.0"
      ]
     },
     "execution_count": 17,
     "metadata": {},
     "output_type": "execute_result"
    }
   ],
   "source": [
    "float(5)"
   ]
  },
  {
   "cell_type": "markdown",
   "metadata": {},
   "source": [
    "## Chaining functions together in pipes\n",
    "\n",
    "Each of the functions we have defined above does a single thing to an input. Often we might want to run functions in a specific order, using the output of each function as an input for the next one.\n",
    "\n",
    "For example, if you wanted to take an integer, add one, and then calculate the cube of that number you could write\n",
    "\n"
   ]
  },
  {
   "cell_type": "code",
   "execution_count": 18,
   "metadata": {},
   "outputs": [
    {
     "data": {
      "text/plain": [
       "216"
      ]
     },
     "execution_count": 18,
     "metadata": {},
     "output_type": "execute_result"
    }
   ],
   "source": [
    "let cube x = x * x * x\n",
    "let firstStep = addOne 5\n",
    "let secondStep = cube firstStep\n",
    "secondStep"
   ]
  },
  {
   "cell_type": "markdown",
   "metadata": {},
   "source": [
    "Rather than defining a new variable for each step, the *pipe* operator\n",
    "~~~~\n",
    "|> \n",
    "~~~~\n",
    "allows us to send the result from one function to another without creating an intermediate variable "
   ]
  },
  {
   "cell_type": "code",
   "execution_count": 29,
   "metadata": {},
   "outputs": [
    {
     "data": {
      "text/plain": [
       "216"
      ]
     },
     "execution_count": 29,
     "metadata": {},
     "output_type": "execute_result"
    }
   ],
   "source": [
    "let secondStep' = addOne 5 |> cube\n",
    "secondStep'"
   ]
  },
  {
   "cell_type": "markdown",
   "metadata": {},
   "source": [
    "There is a related operator, the *composition* operator\n",
    "\n",
    "~~~~\n",
    ">>\n",
    "~~~~\n",
    "That does something similar. Rather that taking the output from one function and passing it to the other it allows you to create functions where the first function is run, then the second e.g.\n"
   ]
  },
  {
   "cell_type": "code",
   "execution_count": 30,
   "metadata": {},
   "outputs": [
    {
     "data": {
      "text/plain": [
       "216"
      ]
     },
     "execution_count": 30,
     "metadata": {},
     "output_type": "execute_result"
    }
   ],
   "source": [
    "let addOneThenCube = addOne >> cube\n",
    "addOneThenCube 5"
   ]
  },
  {
   "cell_type": "markdown",
   "metadata": {},
   "source": [
    "These operators are directional- that is the interpretation depends on the direction of the arrow in the operator"
   ]
  },
  {
   "cell_type": "code",
   "execution_count": 35,
   "metadata": {},
   "outputs": [
    {
     "data": {
      "text/plain": [
       "216"
      ]
     },
     "execution_count": 35,
     "metadata": {},
     "output_type": "execute_result"
    }
   ],
   "source": [
    "cube <| addOne 5 //This is the same as addOne 5 |> cube"
   ]
  },
  {
   "cell_type": "markdown",
   "metadata": {},
   "source": [
    "## Activity \n",
    "\n",
    "In this activity, each function should print something to the screen. Examples of what the output should look like when run are given.\n",
    "\n",
    "A quadratic equation is written in the form $a x ^2 + b x + c$. \n",
    "\n",
    "Write a function that returns the value of the function for a given value of x. "
   ]
  },
  {
   "cell_type": "code",
   "execution_count": 19,
   "metadata": {},
   "outputs": [
    {
     "name": "stderr",
     "output_type": "stream",
     "text": [
      "The value or constructor 'r' is not defined. Maybe you want one of the following:\n",
      "   SR\n",
      "   or\n",
      "   a\n",
      "   b\n",
      "   c"
     ]
    }
   ],
   "source": [
    "let evaluateQuadratic a b c x =\n",
    "    //Write something here\n",
    "    printf \"%f\\n\" r\n",
    "    \n",
    "//This should print 4\n",
    "evaluateQuadratic 0 2 4 0 \n",
    "\n",
    "//This should print 10\n",
    "evaluateQuadratic 1 2 4 2"
   ]
  },
  {
   "cell_type": "markdown",
   "metadata": {},
   "source": [
    "Write a function that accepts a value for a, b, and c, and prints the differentiated equation to the screen using printf. Reminder: The general rule to differentiate a function $ax^n$ is to return $nax^{(n-1)}$. "
   ]
  },
  {
   "cell_type": "code",
   "execution_count": 20,
   "metadata": {},
   "outputs": [
    {
     "name": "stderr",
     "output_type": "stream",
     "text": [
      "The value or constructor 'r1' is not defined.\n",
      "The value or constructor 'r2' is not defined."
     ]
    }
   ],
   "source": [
    "let differentiateQuadratic a b c =\n",
    "    //Write something here\n",
    "    printf \"%dx + %d\\n\" r1 r2\n",
    "    \n",
    "//This should print 10x + 2\n",
    "differentiateQuadratic 5 2 3\n",
    "\n",
    "//This should print 0x + 0\n",
    "differentiateQuadratic 0 0 10"
   ]
  },
  {
   "cell_type": "markdown",
   "metadata": {},
   "source": [
    "Write a function that prints the solution to the quadratic equation (the values of x when y=0);\n",
    "\n",
    "$x=\\dfrac{-b\\pm\\sqrt{b^2-4ac}}{2a}$"
   ]
  },
  {
   "cell_type": "code",
   "execution_count": 21,
   "metadata": {},
   "outputs": [
    {
     "name": "stderr",
     "output_type": "stream",
     "text": [
      "Possible incorrect indentation: this token is offside of context started at position (1:1). Try indenting this token further or using standard formatting conventions.\n",
      "Possible incorrect indentation: this token is offside of context started at position (1:1). Try indenting this token further or using standard formatting conventions.\n",
      "Possible incorrect indentation: this token is offside of context started at position (1:1). Try indenting this token further or using standard formatting conventions.\n",
      "Possible incorrect indentation: this token is offside of context started at position (1:1). Try indenting this token further or using standard formatting conventions.\n",
      "The value or constructor 'solveQuadratic' is not defined.\n",
      "The value or constructor 'solveQuadratic' is not defined."
     ]
    }
   ],
   "source": [
    "let solveQuadratic a b c =\n",
    "    //Write something here, including a print statement. \n",
    "\n",
    "//This should print x = 3., -3.\n",
    "solveQuadratic 1. 0. -9.\n",
    "\n",
    "//This should print x = 2.5, -0.42 \n",
    "solveQuadratic 10. 31. -14."
   ]
  },
  {
   "cell_type": "markdown",
   "metadata": {},
   "source": [
    "# Conditionals, loops and collections\n",
    "\n",
    "So far the examples we've looked at involve calculating single values, with single commands that use algebraic functions. Its more common to use *collections*- an object that contains more than one value, and to *loop* through a series of commands rather than to write them out explicitly. Alongside this we need to test our results- this can be used widely but its important to know when to stop running a command.\n",
    "\n",
    "Here we will look at different ways of doing all of these things.\n",
    "\n",
    "## If, then, else\n",
    "\n",
    "If statements take tests that evaluate to true or false, and use them to decide what to do next. A simple example of this is given below; if the number (x) passed to the function is greater than 1 the code after \"then\" is executed; if not, the code after else is printed."
   ]
  },
  {
   "cell_type": "code",
   "execution_count": 22,
   "metadata": {},
   "outputs": [
    {
     "data": {
      "text/plain": [
       "0 not greater than one\n",
       "2 greater than one\n"
      ]
     },
     "metadata": {},
     "output_type": "display_data"
    }
   ],
   "source": [
    "let greaterThanOne x = \n",
    "    if x > 1 \n",
    "    then printf \"%d greater than one\\n\" x \n",
    "    else printf \"%d not greater than one\\n\" x\n",
    "    \n",
    "greaterThanOne 0\n",
    "greaterThanOne 2"
   ]
  },
  {
   "cell_type": "markdown",
   "metadata": {},
   "source": [
    "We can use if/then/else to construct functions that change depending on the input, and we can extend the tests with elif"
   ]
  },
  {
   "cell_type": "code",
   "execution_count": 23,
   "metadata": {},
   "outputs": [
    {
     "data": {
      "text/plain": [
       "Min1 1\n",
       "Min1 1\n",
       "Min1 1\n",
       "Min1 2\n",
       "Min1 3\n",
       "Min1 4\n",
       "Min1 5\n",
       "Min1 Max3 1\n",
       "Min1 Max3 1\n",
       "Min1 Max3 1\n",
       "Min1 Max3 2\n",
       "Min1 Max3 3\n",
       "Min1 Max3 3\n",
       "Min1 Max3 3\n"
      ]
     },
     "metadata": {},
     "output_type": "display_data"
    }
   ],
   "source": [
    "let resultNeverLessThanOne x =\n",
    "    let result = if x < 1 then 1 else x\n",
    "    printf \"Min1 %d\\n\" result\n",
    "    \n",
    "resultNeverLessThanOne -1\n",
    "resultNeverLessThanOne 0\n",
    "resultNeverLessThanOne 1\n",
    "resultNeverLessThanOne 2\n",
    "resultNeverLessThanOne 3\n",
    "resultNeverLessThanOne 4\n",
    "resultNeverLessThanOne 5\n",
    "\n",
    "\n",
    "let resultMinOneMaxThree x =\n",
    "    let result = if x < 1 then 1 elif x > 3 then 3 else x\n",
    "    printf \"Min1 Max3 %d\\n\" result\n",
    "    \n",
    "resultMinOneMaxThree -1\n",
    "resultMinOneMaxThree 0\n",
    "resultMinOneMaxThree 1\n",
    "resultMinOneMaxThree 2\n",
    "resultMinOneMaxThree 3\n",
    "resultMinOneMaxThree 4\n",
    "resultMinOneMaxThree 5\n",
    "\n"
   ]
  },
  {
   "cell_type": "markdown",
   "metadata": {},
   "source": [
    "In addition to >, <, and = you can also use >=, <=, and <> (not equal) to compare two variables.\n",
    "\n",
    "### Pattern matching\n",
    "\n",
    "An alternative type of conditional is a pattern matching statement (*match*). Here the value passed to match is tested against each alternative, with the result being the value that matches. `_` matches everything, so is frequently used as a terminating state.\n",
    "\n",
    "This isn't necessarily the best choice for the types we've used so far; however this can be a clearer way to write some statements, and becomes very us some types that we will introduce later."
   ]
  },
  {
   "cell_type": "code",
   "execution_count": 13,
   "metadata": {},
   "outputs": [
    {
     "data": {
      "text/plain": [
       "many!\n",
       "one !\n"
      ]
     },
     "metadata": {},
     "output_type": "display_data"
    }
   ],
   "source": [
    "let findNumber x = \n",
    "    match x with\n",
    "    | 0 -> printf \"zero!\\n\"\n",
    "    | 1 -> printf \"one !\\n\"\n",
    "    | _ -> printf \"many!\\n\"\n",
    "    \n",
    "findNumber 5\n",
    "findNumber 1"
   ]
  },
  {
   "cell_type": "markdown",
   "metadata": {},
   "source": [
    "## Recursive loops\n",
    "\n",
    "A recursive function is one that calls itself to calculate a value. To prevent a loop running forever, a conditional statement can be used to test the most recent result and stop the calculation. To define a recursive function, the *rec* keyword is inserted between let and the function name as below. Notice that when we rerun the function we should change the input value."
   ]
  },
  {
   "cell_type": "code",
   "execution_count": 24,
   "metadata": {},
   "outputs": [
    {
     "data": {
      "text/plain": [
       "10...9...8...7...6...5...4...3...2...1...0...Finished!\n",
       "Finished!\n"
      ]
     },
     "metadata": {},
     "output_type": "display_data"
    }
   ],
   "source": [
    "let rec countdown x =\n",
    "    if x < 0 \n",
    "    then printf \"Finished!\\n\"\n",
    "    else printf \"%d...\" x\n",
    "         //People frequently use ' to indicate the next value of something\n",
    "         // here x' can be read as \"the next value of x\"\n",
    "         let x' = x - 1\n",
    "         countdown x'\n",
    "         \n",
    "countdown 10\n",
    "countdown -1"
   ]
  },
  {
   "cell_type": "markdown",
   "metadata": {},
   "source": [
    "Below we've written a function that contains a recursive function. This can make code easier to read and write, exposing fewer details to the user."
   ]
  },
  {
   "cell_type": "code",
   "execution_count": 25,
   "metadata": {},
   "outputs": [
    {
     "data": {
      "text/plain": [
       "1 * 2 = 2\n",
       "2 * 2 = 4\n",
       "3 * 2 = 6\n",
       "4 * 2 = 8\n",
       "5 * 2 = 10\n",
       "6 * 2 = 12\n",
       "7 * 2 = 14\n",
       "8 * 2 = 16\n",
       "9 * 2 = 18\n",
       "10 * 2 = 20\n"
      ]
     },
     "metadata": {},
     "output_type": "display_data"
    }
   ],
   "source": [
    "let twoTimesTable max =\n",
    "    let rec core x = \n",
    "        if x = max then printf \"%d * 2 = %d\\n\" x (x*2)\n",
    "        else printf \"%d * 2 = %d\\n\" x (x*2)\n",
    "             core (x+1)\n",
    "    core 1\n",
    "             \n",
    "twoTimesTable 10"
   ]
  },
  {
   "cell_type": "markdown",
   "metadata": {},
   "source": [
    "### Tail recursion\n",
    "\n",
    "Tail recursive functions are a type of recursive function as described above. A key feature of a tail recursive function is demonstrated in *how* its written, rather than the keywords used. Notably, a partial result is calculated within the function and passed to the next iteration of the loop. An example is given below"
   ]
  },
  {
   "cell_type": "code",
   "execution_count": 26,
   "metadata": {},
   "outputs": [
    {
     "data": {
      "text/plain": [
       "sumCount to 5 is 15\n",
       "sumCount to 2 is 3\n"
      ]
     },
     "metadata": {},
     "output_type": "display_data"
    }
   ],
   "source": [
    "//Function counts to the maximum value, summing the values and returning\n",
    "let rec sumCount count max result =\n",
    "    if count > max then printf \"sumCount to %d is %d\\n\" max result \n",
    "    else\n",
    "        let result' = result + count\n",
    "        sumCount (count+1) max result'\n",
    "        \n",
    "sumCount 0 5 0 \n",
    "sumCount 0 2 0 "
   ]
  },
  {
   "cell_type": "markdown",
   "metadata": {},
   "source": [
    "This partial result is frequently called an accumulator.\n",
    "\n",
    "Why write recursive loops like this? An alternative way to write sumCount would be\n",
    "~~~~\n",
    "let rec sumCount count max = \n",
    "    if count > max then 0 else\n",
    "    count + (sumCount (count+1) max)\n",
    "~~~~\n",
    "Rather than calculate a partial result, in the last line it adds the current count to the next result. This effectively puts off the final sum, and this calculation is stored in memory (to a structure called a stack). This has a limited size, so whilst this works for small values of \"max\", eventually the memory will run out and a stack overflow exception occurs causing your program to crash. Tail recursive loops are efficient and avoid this issue.\n",
    "\n",
    "A natural question is *why haven't I included a code box here to demonstrate the exception?* Unfortunately the way Jupyter works with exceptions means that the error you get isn't very obvious and requires that you restart the notebook. However, feel free to add one and explore yourself!"
   ]
  },
  {
   "cell_type": "markdown",
   "metadata": {},
   "source": [
    "## Activity\n",
    "\n",
    "Complete the function below that calculates a defined number of steps (similar to twoTimesTable above) of the Fibonacci sequence, starting from 0,1,... There are notes to you in the comments!\n",
    "\n",
    "Reminder: the next value of the Fibonacci sequence is the sum of the previous two values"
   ]
  },
  {
   "cell_type": "code",
   "execution_count": 27,
   "metadata": {},
   "outputs": [
    {
     "name": "stderr",
     "output_type": "stream",
     "text": [
      "Possible incorrect indentation: this token is offside of context started at position (6:9). Try indenting this token further or using standard formatting conventions.\n",
      "Possible incorrect indentation: this token is offside of context started at position (6:9). Try indenting this token further or using standard formatting conventions.\n",
      "Possible incorrect indentation: this token is offside of context started at position (6:9). Try indenting this token further or using standard formatting conventions.\n",
      "Possible incorrect indentation: this token is offside of context started at position (6:9). Try indenting this token further or using standard formatting conventions.\n",
      "Possible incorrect indentation: this token is offside of context started at position (6:9). Try indenting this token further or using standard formatting conventions.\n",
      "Possible incorrect indentation: this token is offside of context started at position (6:9). Try indenting this token further or using standard formatting conventions.\n",
      "The block following this 'let' is unfinished. Every code block is an expression and must have a result. 'let' cannot be the final code element in a block. Consider giving this block an explicit result."
     ]
    }
   ],
   "source": [
    "let fib totalValues = \n",
    "    //Count tracks how many values we have calculated\n",
    "    //First and Second are the n-2 and n-1 values of the sequence\n",
    "    let rec core first second count =\n",
    "        //Is totalValues the right number to compare with here? How many values do you want to generate\n",
    "        if count > totalValues then printf \"Finished\\n\"\n",
    "        else //Put code here\n",
    "    printf \"0,\"\n",
    "    printf \"1,\"\n",
    "    core 0 1 0\n",
    "    \n",
    "fib 10"
   ]
  },
  {
   "cell_type": "markdown",
   "metadata": {},
   "source": [
    "## Collections\n",
    "\n",
    "In all of the examples above we've printed out the results as text to the screen. Whilst this has been fine for these tasks, we will frequently want to store all of the results from a looping function in a single variable in memory so we can print, reexamine, and reuse in other functions. Variables that contain multiple values are known as *collections* and we will introduce some here\n",
    "\n",
    "### Lists\n",
    "\n",
    "A list is a series of values of the same type. You can create them directly using square brackets, use range conversions, or the init function built into the List object. Examples of each are below.\n",
    "\n",
    "This third option allows you to include more powerful functions in the creation process. List.init takes the length of the list you want to generate and a function that takes an integer (the index, counting from zero) as its sole input i.e. \n",
    "\n",
    "0,1,2,3,4....n\n",
    "\n",
    "Where n is the length minus one\n",
    "\n",
    "Here you could use a function you've named previously (for example, like square as shown below). A more common approach however is to create a new \"anonymous\" function. As indicated by \"anonymous\", this function doesn't have a name and therefore cannot be used anywhere else and is structured as \n",
    "\n",
    "~~~~\n",
    "fun x -> (Function goes here)\n",
    "~~~~\n",
    "\n",
    "where x is the input (here, the integer index). The function itself is written after the `->` symbol."
   ]
  },
  {
   "cell_type": "code",
   "execution_count": 28,
   "metadata": {},
   "outputs": [
    {
     "data": {
      "text/plain": [
       "1: [5; 2; 4]\n",
       "2: [0; 1; 2; ... ]\n",
       "3: [0; 1; 4; ... ]\n",
       "4: [0; 1; 8; ... ]\n"
      ]
     },
     "metadata": {},
     "output_type": "display_data"
    }
   ],
   "source": [
    "let firstList = [5;2;4]  //different values are separated by a semi colon\n",
    "let secondList = [0..10] //creates 0,1,2,3,4,5\n",
    "let square x = x * x\n",
    "let thirdList = List.init 10 square\n",
    "//Cubes\n",
    "let fourthList = List.init 10 (fun i -> i * i * i)\n",
    "//Here we use %O to print \n",
    "printf \"1: %O\\n2: %O\\n3: %O\\n4: %O\\n\" firstList secondList thirdList fourthList"
   ]
  },
  {
   "cell_type": "markdown",
   "metadata": {},
   "source": [
    "### Looping with lists\n",
    "\n",
    "Lists use a new operator called *cons* or `::` to append or break off the first item in the list. This is an extremely efficient way of extending a list, and offers a tool that helps write loops through a list. For example, if you wanted to sum the elements in a list you can use a mixture of pattern matching and cons to pick off the first element, add it to an accumulator, and then run the rest of the list through sumList. This occurs until the list is empty."
   ]
  },
  {
   "cell_type": "code",
   "execution_count": 17,
   "metadata": {},
   "outputs": [
    {
     "data": {
      "text/plain": [
       "11"
      ]
     },
     "execution_count": 17,
     "metadata": {},
     "output_type": "execute_result"
    }
   ],
   "source": [
    "let rec sumList input acc =\n",
    "    match input with\n",
    "    //Tests if the list is empty\n",
    "    | [] -> acc //The list has no more elements, so return the accumulator\n",
    "    //Test- can we split the list into its first element, and other elements\n",
    "    | firstElement::otherElements ->\n",
    "        sumList otherElements (acc+firstElement)\n",
    "        \n",
    "sumList firstList 0"
   ]
  },
  {
   "cell_type": "markdown",
   "metadata": {},
   "source": [
    "You can use cons to extend a list too, as shown below"
   ]
  },
  {
   "cell_type": "code",
   "execution_count": 18,
   "metadata": {},
   "outputs": [
    {
     "data": {
      "text/plain": [
       "[25; 16; 9; 4; 1; 0]"
      ]
     },
     "execution_count": 18,
     "metadata": {},
     "output_type": "execute_result"
    }
   ],
   "source": [
    "let rec squares count max acc = \n",
    "    if max < count then acc else squares (count+1) max ((count*count)::acc)\n",
    "    \n",
    "squares 0 5 []"
   ]
  },
  {
   "cell_type": "markdown",
   "metadata": {},
   "source": [
    "### Maps, folds, and other built in List functions\n",
    "Lists have a range of built in functions, similar to init, that offer another way to write certain types of loop.\n",
    "\n",
    "*map* creates a new list from another by applying a function to every element of the old list."
   ]
  },
  {
   "cell_type": "code",
   "execution_count": 6,
   "metadata": {},
   "outputs": [
    {
     "data": {
      "text/plain": [
       "[7; 4; 6]"
      ]
     },
     "execution_count": 6,
     "metadata": {},
     "output_type": "execute_result"
    }
   ],
   "source": [
    "List.map (fun element -> element+2) firstList"
   ]
  },
  {
   "cell_type": "markdown",
   "metadata": {},
   "source": [
    "*fold* creates a new single value from a list, based on an input function and an initial value. The function is applied to every item in the list and the output from the last evaluation of the function, or the initial value for the first element of the list. The fold then returns the final function evaluation."
   ]
  },
  {
   "cell_type": "code",
   "execution_count": 9,
   "metadata": {},
   "outputs": [
    {
     "data": {
      "text/plain": [
       "11"
      ]
     },
     "execution_count": 9,
     "metadata": {},
     "output_type": "execute_result"
    }
   ],
   "source": [
    "List.fold (fun acc element -> element+acc) 0 firstList"
   ]
  },
  {
   "cell_type": "markdown",
   "metadata": {},
   "source": [
    "Filter operations return a new list that only contains elements that return true, when a given function is applied to elements of the list"
   ]
  },
  {
   "cell_type": "code",
   "execution_count": 11,
   "metadata": {},
   "outputs": [
    {
     "data": {
      "text/plain": [
       "[2; 4]"
      ]
     },
     "execution_count": 11,
     "metadata": {},
     "output_type": "execute_result"
    }
   ],
   "source": [
    "List.filter (fun i -> i%2=0) firstList"
   ]
  },
  {
   "cell_type": "markdown",
   "metadata": {},
   "source": [
    "Rev reverses an input list"
   ]
  },
  {
   "cell_type": "code",
   "execution_count": 14,
   "metadata": {},
   "outputs": [
    {
     "data": {
      "text/plain": [
       "[4; 2; 5]"
      ]
     },
     "execution_count": 14,
     "metadata": {},
     "output_type": "execute_result"
    }
   ],
   "source": [
    "List.rev firstList"
   ]
  },
  {
   "cell_type": "markdown",
   "metadata": {},
   "source": [
    "All built-in functions can be found here:\n",
    "\n",
    "https://msdn.microsoft.com/en-us/visualfsharpdocs/conceptual/collections.list-module-%5Bfsharp%5D?f=255&MSPPError=-2147217396\n",
    "\n",
    "### Activity \n",
    "\n",
    "Write a function that multiplies every element in an input list by the (index+1) * 9, and returns the last digit of the number i.e.\n",
    "\n",
    "[1;2;3;] - > [9;6;1]\n",
    "\n",
    "*Hint* Round or floor could help getting the last digit"
   ]
  },
  {
   "cell_type": "code",
   "execution_count": 1,
   "metadata": {},
   "outputs": [
    {
     "name": "stderr",
     "output_type": "stream",
     "text": [
      "Possible incorrect indentation: this token is offside of context started at position (1:1). Try indenting this token further or using standard formatting conventions.\n",
      "Possible incorrect indentation: this token is offside of context started at position (1:1). Try indenting this token further or using standard formatting conventions.\n",
      "The value or constructor 'nineMultiplier' is not defined."
     ]
    }
   ],
   "source": [
    "let nineMultiplier a =\n",
    "    //code goes here\n",
    "    \n",
    "nineMultiplier [123456789;123456789;123456789;123456789;123456789;123456789;123456789;123456789;123456789;] //1,2,3,4,5,6,7,8,9"
   ]
  },
  {
   "cell_type": "markdown",
   "metadata": {},
   "source": [
    "Create a function that takes an integer length as input and generates a list containing a fibonnaci sequence, in correct order"
   ]
  },
  {
   "cell_type": "code",
   "execution_count": null,
   "metadata": {},
   "outputs": [],
   "source": [
    "let fibList n = \n",
    "    //Write code here\n",
    "    \n",
    "fibList 8 //[0;1;1;2;3;5;8;13]"
   ]
  },
  {
   "cell_type": "markdown",
   "metadata": {},
   "source": [
    "Write a function that takes two lists and returns a single list with the sum of the elements at the same position.\n",
    "\n",
    "*Hint* There are a few ways you could do this so here; you could use pattern matching to read through the list one element at a time, or look into the map2 function. \n",
    "\n",
    "Include a test for lists of different length so that it prints a message instead. \n",
    "\n",
    "*Hint* The function *failwith* takes a string and prints it, exiting execution early"
   ]
  },
  {
   "cell_type": "code",
   "execution_count": null,
   "metadata": {},
   "outputs": [],
   "source": [
    "let addLists a b =\n",
    "    //Write code here\n",
    "\n",
    "addLists [0;4;5] [2;4;5;] //returns [2;8;10]"
   ]
  },
  {
   "cell_type": "code",
   "execution_count": null,
   "metadata": {},
   "outputs": [],
   "source": [
    "addLists [] [0] //Prints \"Lists of different length\""
   ]
  },
  {
   "cell_type": "markdown",
   "metadata": {},
   "source": [
    "## Seq"
   ]
  },
  {
   "cell_type": "code",
   "execution_count": null,
   "metadata": {},
   "outputs": [],
   "source": []
  },
  {
   "cell_type": "markdown",
   "metadata": {},
   "source": [
    "# Other important types and features\n",
    "\n",
    "## Discriminated unions\n",
    "\n",
    "## Records\n",
    "\n",
    "## Arrays\n",
    "\n",
    "## Units of measure\n",
    "\n",
    "## Reference cells and mutable variables\n",
    "\n",
    "## Partial application\n",
    "\n",
    "## Using libraries from NuGet"
   ]
  },
  {
   "cell_type": "markdown",
   "metadata": {},
   "source": [
    "# Further reading \n",
    "\n",
    "http://usingprogramming.com/post/2017/08/21/getting-started-with-programming-and-getting-absolutely-nowhere\n",
    "\n",
    "https://github.com/ChrisMarinos/FSharpKoans\n",
    "\n",
    "http://www.fsharpworkshop.com/\n",
    "\n",
    "https://www.youtube.com/playlist?list=PLEoMzSkcN8oNiJ67Hd7oRGgD1d4YBxYGC"
   ]
  }
 ],
 "metadata": {
  "kernelspec": {
   "display_name": "F#",
   "language": "fsharp",
   "name": "ifsharp"
  },
  "language": "fsharp",
  "language_info": {
   "codemirror_mode": "",
   "file_extension": ".fs",
   "mimetype": "text/x-fsharp",
   "name": "fsharp",
   "nbconvert_exporter": "",
   "pygments_lexer": "",
   "version": "4.3.1.0"
  }
 },
 "nbformat": 4,
 "nbformat_minor": 2
}
